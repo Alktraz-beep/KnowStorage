{
 "cells": [
  {
   "cell_type": "code",
   "execution_count": 1,
   "metadata": {},
   "outputs": [
    {
     "ename": "ModuleNotFoundError",
     "evalue": "No module named 'spacy'",
     "output_type": "error",
     "traceback": [
      "\u001b[1;31m---------------------------------------------------------------------------\u001b[0m",
      "\u001b[1;31mModuleNotFoundError\u001b[0m                       Traceback (most recent call last)",
      "\u001b[1;32m<ipython-input-1-0069881c0033>\u001b[0m in \u001b[0;36m<module>\u001b[1;34m\u001b[0m\n\u001b[0;32m      7\u001b[0m \u001b[1;32mfrom\u001b[0m \u001b[0mcollections\u001b[0m \u001b[1;32mimport\u001b[0m \u001b[0mCounter\u001b[0m\u001b[1;33m\u001b[0m\u001b[1;33m\u001b[0m\u001b[0m\n\u001b[0;32m      8\u001b[0m \u001b[1;32mimport\u001b[0m \u001b[0mnltk\u001b[0m\u001b[1;33m.\u001b[0m\u001b[0mdata\u001b[0m\u001b[1;33m\u001b[0m\u001b[1;33m\u001b[0m\u001b[0m\n\u001b[1;32m----> 9\u001b[1;33m \u001b[1;32mimport\u001b[0m \u001b[0mspacy\u001b[0m\u001b[1;33m\u001b[0m\u001b[1;33m\u001b[0m\u001b[0m\n\u001b[0m\u001b[0;32m     10\u001b[0m \u001b[1;32mfrom\u001b[0m \u001b[0mspacy\u001b[0m \u001b[1;32mimport\u001b[0m \u001b[0mdisplacy\u001b[0m\u001b[1;33m\u001b[0m\u001b[1;33m\u001b[0m\u001b[0m\n\u001b[0;32m     11\u001b[0m \u001b[1;32mimport\u001b[0m \u001b[0mtime\u001b[0m\u001b[1;33m\u001b[0m\u001b[1;33m\u001b[0m\u001b[0m\n",
      "\u001b[1;31mModuleNotFoundError\u001b[0m: No module named 'spacy'"
     ]
    }
   ],
   "source": [
    "import speech_recognition as sr\n",
    "from time import sleep\n",
    "from collections import defaultdict, Counter\n",
    "from _collections import OrderedDict \n",
    "#from __future__ import division\n",
    "import nltk\n",
    "from collections import Counter\n",
    "import nltk.data\n",
    "import spacy\n",
    "from spacy import displacy\n",
    "import time\n",
    "\n",
    "#Aqui comienza reconocimiento de voz\n",
    "r = sr.Recognizer()\n",
    "with sr.AudioFile(\"prueba.wav\") as source: #Conj, Det, Prep\n",
    "    print(\"Espera..\")\n",
    "    audio = r.listen(source)\n",
    "    try:\n",
    "        texto = r.recognize_google(audio,language='es-MX')\n",
    "        time.sleep(.5)\n",
    "        print(\"Tu dijiste: {}\\n\".format(texto) )\n",
    "    except:\n",
    "        print(\"Yo no pude escucharte\")\n",
    "#Aqui finaliza codigo \n",
    "#Aqui comienza el codigo de muletillas\n",
    "nlp = spacy.load('es_core_news_sm')\n",
    "doc = nlp(texto)\n",
    "number1=4\n",
    "def main(number1):\n",
    "    res=number1+2\n",
    "    return str(number1)"
   ]
  },
  {
   "cell_type": "code",
   "execution_count": null,
   "metadata": {},
   "outputs": [],
   "source": []
  },
  {
   "cell_type": "code",
   "execution_count": null,
   "metadata": {},
   "outputs": [],
   "source": []
  }
 ],
 "metadata": {
  "kernelspec": {
   "display_name": "Python 3",
   "language": "python",
   "name": "python3"
  },
  "language_info": {
   "codemirror_mode": {
    "name": "ipython",
    "version": 3
   },
   "file_extension": ".py",
   "mimetype": "text/x-python",
   "name": "python",
   "nbconvert_exporter": "python",
   "pygments_lexer": "ipython3",
   "version": "3.8.5"
  }
 },
 "nbformat": 4,
 "nbformat_minor": 4
}
